{
  "cells": [
    {
      "cell_type": "markdown",
      "id": "8055e747",
      "metadata": {
        "id": "8055e747"
      },
      "source": [
        "# ***RHOBS Internship test***"
      ]
    },
    {
      "cell_type": "markdown",
      "id": "bcd1f8b5",
      "metadata": {
        "id": "bcd1f8b5"
      },
      "source": [
        "<a id = \"1\"></a>\n",
        "# <font style=\"color:blue;text-align:center;font-size:25px\"><u>Importing/Loading the DataSet:</u></font>"
      ]
    },
    {
      "cell_type": "code",
      "execution_count": 1,
      "id": "1e14d65a",
      "metadata": {
        "colab": {
          "base_uri": "https://localhost:8080/"
        },
        "id": "1e14d65a",
        "outputId": "399a47fd-c01e-418a-af9c-bbb4378c6f58"
      },
      "outputs": [
        {
          "output_type": "stream",
          "name": "stdout",
          "text": [
            "Contents of the extracted directory: ['.config', 'data.zip', '-', 'sample_data']\n"
          ]
        }
      ],
      "source": [
        "# Import required libraries\n",
        "import urllib.request\n",
        "import zipfile\n",
        "import os\n",
        "\n",
        "# The URL of the data in the zip file\n",
        "data_url = \"http://rhobs-public.s3-website.eu-west-3.amazonaws.com/data.zip\"\n",
        "\n",
        "# The directory where to save the downloaded file\n",
        "download_dir = \"/content/\"\n",
        "\n",
        "# Create the directory if it doesn't exist\n",
        "os.makedirs(download_dir, exist_ok=True)\n",
        "\n",
        "# The file name for the downloaded zip file\n",
        "zip_file_path = os.path.join(download_dir, \"data.zip\")\n",
        "\n",
        "# Download the zip file from data_url to zip_file_path\n",
        "urllib.request.urlretrieve(data_url, zip_file_path)\n"
      ]
    },
    {
      "cell_type": "code",
      "source": [
        "# Extract the contents of the zip file into the data folder inside the /content folder\n",
        "with zipfile.ZipFile(zip_file_path, 'r') as zip_ref:\n",
        "    zip_ref.extractall(f\"{download_dir}data\")\n",
        ""
      ],
      "metadata": {
        "colab": {
          "base_uri": "https://localhost:8080/"
        },
        "id": "2BlBTrZiPClL",
        "outputId": "83665782-336c-4209-a93c-c42c37572020"
      },
      "id": "2BlBTrZiPClL",
      "execution_count": 12,
      "outputs": [
        {
          "output_type": "stream",
          "name": "stdout",
          "text": [
            "Contents of the extracted directory: ['.config', 'data.zip', 'data', '-', 'sample_data']\n"
          ]
        }
      ]
    },
    {
      "cell_type": "code",
      "source": [
        "# Listing the content of the directory data which is located inside /content\n",
        "os.listdir(f\"{download_dir}data\")\n"
      ],
      "metadata": {
        "colab": {
          "base_uri": "https://localhost:8080/"
        },
        "id": "kNF0W43LN0fF",
        "outputId": "261e3797-e550-4d3f-e4b4-e468bbf10c11"
      },
      "id": "kNF0W43LN0fF",
      "execution_count": 14,
      "outputs": [
        {
          "output_type": "execute_result",
          "data": {
            "text/plain": [
              "['-']"
            ]
          },
          "metadata": {},
          "execution_count": 14
        }
      ]
    },
    {
      "cell_type": "code",
      "source": [
        "# The files with their size inside the folder\n",
        "!ls -al /content/data"
      ],
      "metadata": {
        "colab": {
          "base_uri": "https://localhost:8080/"
        },
        "id": "AJYKsFaDPTzy",
        "outputId": "b566c817-c909-469d-b6f5-503cee8379d8"
      },
      "id": "AJYKsFaDPTzy",
      "execution_count": 16,
      "outputs": [
        {
          "output_type": "stream",
          "name": "stdout",
          "text": [
            "total 18252440\n",
            "-rw-r--r-- 1 root root 18690484646 Feb  9 14:32 -\n",
            "drwxr-xr-x 2 root root        4096 Feb  9 14:29 .\n",
            "drwxr-xr-x 1 root root        4096 Feb  9 14:34 ..\n"
          ]
        }
      ]
    },
    {
      "cell_type": "code",
      "source": [
        "# Renaming the file\n",
        "!mv /content/data/- /content/data/data.txt"
      ],
      "metadata": {
        "id": "qcUsqx6ITQzK"
      },
      "id": "qcUsqx6ITQzK",
      "execution_count": 17,
      "outputs": []
    },
    {
      "cell_type": "code",
      "source": [
        "# The files is not renamed with an extention of txt file\n",
        "!ls -al /content/data"
      ],
      "metadata": {
        "colab": {
          "base_uri": "https://localhost:8080/"
        },
        "id": "1r1fFzLVTct4",
        "outputId": "981b4a13-ae02-47a6-d5a2-8a5a0ffb86a3"
      },
      "id": "1r1fFzLVTct4",
      "execution_count": 18,
      "outputs": [
        {
          "output_type": "stream",
          "name": "stdout",
          "text": [
            "total 18252440\n",
            "drwxr-xr-x 2 root root        4096 Feb  9 14:37 .\n",
            "drwxr-xr-x 1 root root        4096 Feb  9 14:34 ..\n",
            "-rw-r--r-- 1 root root 18690484646 Feb  9 14:32 data.txt\n"
          ]
        }
      ]
    },
    {
      "cell_type": "markdown",
      "id": "c2bb5ba5",
      "metadata": {
        "id": "c2bb5ba5"
      },
      "source": [
        "<a id = \"2\"></a>\n",
        "# <font style=\"color:blue;text-align:center;font-size:25px\"><u>Reading the data:</u></font>"
      ]
    },
    {
      "cell_type": "code",
      "source": [
        "import chardet\n",
        "with open(\"/content/data/data.txt\",\"rb\") as data:\n",
        "  # Print informations about the file(the encoding ...) by reading the first 10000 bytes from the file\n",
        "  print(chardet.detect(data.read(10000)))\n"
      ],
      "metadata": {
        "colab": {
          "base_uri": "https://localhost:8080/"
        },
        "id": "iUJeWwPRTpgg",
        "outputId": "d167caaf-6e1e-4b32-887b-89191ea98493"
      },
      "id": "iUJeWwPRTpgg",
      "execution_count": 8,
      "outputs": [
        {
          "output_type": "stream",
          "name": "stdout",
          "text": [
            "{'encoding': 'utf-8', 'confidence': 0.99, 'language': ''}\n"
          ]
        }
      ]
    },
    {
      "cell_type": "code",
      "source": [
        "with open(\"/content/data/data.txt\",\"r\") as data:\n",
        "  print(\"##############################\\nthe data in the file\\n##############################\")\n",
        "  print()\n",
        "  for i in range(30):\n",
        "    line=data.readline().strip()\n",
        "    print(f\"line_{i+1}: {line}\")\n",
        ""
      ],
      "metadata": {
        "colab": {
          "base_uri": "https://localhost:8080/"
        },
        "id": "MLLyF7mqZx8l",
        "outputId": "d46c1422-f263-48a7-9fee-a9ceb625a77c"
      },
      "id": "MLLyF7mqZx8l",
      "execution_count": 21,
      "outputs": [
        {
          "output_type": "stream",
          "name": "stdout",
          "text": [
            "##############################\n",
            "the data in the file\n",
            "##############################\n",
            "\n",
            "line_1: Your mission shall you accept it is to\n",
            "line_2: * Explain every column.\n",
            "line_3: * Find the 3 richest person.\n",
            "line_4: \n",
            "line_5: This is a simple test, it should not take you more 30minutes to code.\n",
            "line_6: \n",
            "line_7: \n",
            "line_8: \n",
            "line_9: a,b,c,d,e,f,g\n",
            "line_10: 0,longue description 0,Victor,Évrat,1779,0,1779\n",
            "line_11: 1,longue description 1,Ugo,Ogier,3218,0,3218\n",
            "line_12: 2,longue description 2,Gerard,Zola,3909,0,3909\n",
            "line_13: 3,longue description 3,Ingrid,Quesada,2672,0,2672\n",
            "line_14: 4,longue description 4,Xavier,Yvars,4224,0,4224\n",
            "line_15: 5,longue description 5,Régis,Ferry,3479,0,3479\n",
            "line_16: 6,longue description 6,Thierry,Zola,0,-402,-402\n",
            "line_17: 7,longue description 7,Elodie,Hénaut,2623,0,2623\n",
            "line_18: 8,longue description 0,Xavier,Zola,1249,0,1249\n",
            "line_19: 9,longue description 1,Pascal,Cannet,1986,0,1986\n",
            "line_20: 10,longue description 2,Victor,Martin,4417,0,4417\n",
            "line_21: 11,longue description 3,Salomé,Niels,3175,0,3175\n",
            "line_22: 12,longue description 4,Jérémie,Quesada,0,-490,-490\n",
            "line_23: 13,longue description 5,Martine,Évrat,855,0,855\n",
            "line_24: 14,longue description 6,Zoé,Urbain,3063,0,3063\n",
            "line_25: 15,longue description 7,Léopold,Évrat,3453,0,3453\n",
            "line_26: 16,longue description 0,Nicolas,Janel,1104,0,1104\n",
            "line_27: 17,longue description 1,Pascal,Sablonnière,0,-973,-973\n",
            "line_28: 18,longue description 2,Martine,Aubry,3419,0,3419\n",
            "line_29: 19,longue description 3,Ugo,Hénaut,4847,0,4847\n",
            "line_30: 20,longue description 4,Jérémie,Zola,2175,0,2175\n"
          ]
        }
      ]
    },
    {
      "cell_type": "markdown",
      "source": [
        "**=>As we can see data to read start from the line 10, to skip the details of the task in the beginning of the file and also the column**\n",
        "- Note that total wealth in the last column is an integer value"
      ],
      "metadata": {
        "id": "ontgsB9TaakS"
      },
      "id": "ontgsB9TaakS"
    },
    {
      "cell_type": "markdown",
      "id": "c170acf0",
      "metadata": {
        "id": "c170acf0"
      },
      "source": [
        "<a id = \"3\"></a>\n",
        "# <font style=\"color:blue;text-align:center;font-size:25px\"><u>Explanation of every column:</u></font>"
      ]
    },
    {
      "cell_type": "markdown",
      "id": "e6ca98a5",
      "metadata": {
        "id": "e6ca98a5"
      },
      "source": [
        "**Columns Explanation** :\n",
        "* **a:** Index or identifier for each person in the dataset.\n",
        "\n",
        "* **b:** Contains a \"longue description\" or a detailed description of each person.\n",
        "\n",
        "*  **c:** The first name of each person.\n",
        "\n",
        "* **d:** The last name of each person.\n",
        "\n",
        "* **e:** Represent the total wealth or revenues of each person (numerical value).\n",
        "\n",
        "* **f:** Represent an additional financial value or costs for each person(numerical value).\n",
        "\n",
        "* **g:** The sum of columns e and f, representing the final net worth or total wealth after any adjustments(numerical value)."
      ]
    },
    {
      "cell_type": "markdown",
      "source": [
        "# Find the top 3 richest persons"
      ],
      "metadata": {
        "id": "sdWd6AMLnzhB"
      },
      "id": "sdWd6AMLnzhB"
    },
    {
      "cell_type": "code",
      "source": [
        "# List to store the top 3 richest persons\n",
        "top_richest = []\n",
        "NUM_HIGHEST = 3\n",
        "# Using a context manager syntax to read the data from the file. (th file will be closed automatically)\n",
        "with open(\"/content/data/data.txt\", \"r\") as data:\n",
        "  line_counter = 0\n",
        "  while line := data.readline():\n",
        "    # Stop when reaching the end of the file\n",
        "    if not line:\n",
        "      break\n",
        "    # Increment the line counter\n",
        "    line_counter += 1\n",
        "    # Remove leading and trailing whitespace\n",
        "    line = line.strip()\n",
        "    # Skipping the first 9 lines\n",
        "    # If the line is empty after stripping whitespace, skip it\n",
        "    if (line_counter <= 9) or (not line):\n",
        "      continue\n",
        "    # Getting the id, firstname, lastname and final total wealth\n",
        "    # Print(line)\n",
        "    id, _, fname, lname, *_, net_wealth = line.split(\",\")\n",
        "    # Print(f\"Person: {fname} {lname} , total wealth: {net_wealth}\")\n",
        "    # Convert the total wealth to integer value\n",
        "    net_wealth = int(net_wealth)\n",
        "    if len(top_richest) < NUM_HIGHEST:\n",
        "      top_richest.append((id, fname, lname, net_wealth))\n",
        "    else:\n",
        "      # Find the minimum wealth which is in the third index of tuples in the top_richest list\n",
        "      min_wealth_index = min(range(len(top_richest)), key=lambda i: top_richest[i][3])\n",
        "      min_wealth = top_richest[min_wealth_index][3]\n",
        "      if net_wealth > min_wealth:\n",
        "          # Replace the person with the minimum wealth\n",
        "          top_richest[min_wealth_index] = (id, fname, lname, net_wealth)\n",
        "  print(f\"The number of lines in the file : {line_counter}\")\n"
      ],
      "metadata": {
        "colab": {
          "base_uri": "https://localhost:8080/"
        },
        "id": "IQe_X2n5UPjx",
        "outputId": "4e7d5694-8fab-49d3-b4e1-938602b41ed2"
      },
      "id": "IQe_X2n5UPjx",
      "execution_count": 32,
      "outputs": [
        {
          "output_type": "stream",
          "name": "stdout",
          "text": [
            "The number of lines in the file : 300000009\n"
          ]
        }
      ]
    },
    {
      "cell_type": "code",
      "source": [
        "# Sorting the top 3 richest persons by their wealth\n",
        "top_richest = sorted(top_richest, key=lambda x: x[3], reverse=True)\n",
        "for rank, person in enumerate(top_richest):\n",
        "  id, fname, lname, net_wealth = person\n",
        "  print(f\"rank_{rank+1} goes to the person: {fname} {lname}, with id = {id} and total wealth = {net_wealth}.\")"
      ],
      "metadata": {
        "colab": {
          "base_uri": "https://localhost:8080/"
        },
        "id": "xTxP8zfXmkmc",
        "outputId": "504f614e-ad83-4686-b5d0-b9cdd72e6b59"
      },
      "id": "xTxP8zfXmkmc",
      "execution_count": 33,
      "outputs": [
        {
          "output_type": "stream",
          "name": "stdout",
          "text": [
            "rank_1 goes to the person: Zoé Walliand, with id = 299998364 and total wealth = 893775958.\n",
            "rank_2 goes to the person: Zoé Walliand, with id = 299999538 and total wealth = 893775893.\n",
            "rank_3 goes to the person: Zoé Walliand, with id = 299997702 and total wealth = 893775523.\n"
          ]
        }
      ]
    },
    {
      "cell_type": "markdown",
      "source": [
        "Done by:\n",
        "- AIT YOUB Abdelmoughit"
      ],
      "metadata": {
        "id": "rvbg3S2SrSLg"
      },
      "id": "rvbg3S2SrSLg"
    },
    {
      "cell_type": "markdown",
      "source": [
        "# ***END***"
      ],
      "metadata": {
        "id": "YLA8zIV_reQh"
      },
      "id": "YLA8zIV_reQh"
    }
  ],
  "metadata": {
    "colab": {
      "provenance": []
    },
    "kernelspec": {
      "display_name": "Python 3 (ipykernel)",
      "language": "python",
      "name": "python3"
    },
    "language_info": {
      "codemirror_mode": {
        "name": "ipython",
        "version": 3
      },
      "file_extension": ".py",
      "mimetype": "text/x-python",
      "name": "python",
      "nbconvert_exporter": "python",
      "pygments_lexer": "ipython3",
      "version": "3.8.17"
    }
  },
  "nbformat": 4,
  "nbformat_minor": 5
}